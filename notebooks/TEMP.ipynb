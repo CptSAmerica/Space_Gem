{
 "cells": [
  {
   "cell_type": "code",
   "execution_count": 27,
   "metadata": {},
   "outputs": [
    {
     "name": "stdout",
     "output_type": "stream",
     "text": [
      "ONNX model loaded successfully from: ../models/best.onnx\n"
     ]
    }
   ],
   "source": [
    "import onnxruntime\n",
    "\n",
    "# Path to your ONNX model file\n",
    "onnx_model_path = \"../models/best.onnx\"\n",
    "\n",
    "try:\n",
    "    # Create an ONNX Runtime inference session\n",
    "    ort_session = onnxruntime.InferenceSession(onnx_model_path)\n",
    "    print(f\"ONNX model loaded successfully from: {onnx_model_path}\")\n",
    "\n",
    "    # You can now get input/output info and run predictions (as shown previously)\n",
    "\n",
    "except Exception as e:\n",
    "    print(f\"Error loading ONNX model: {e}\")"
   ]
  },
  {
   "cell_type": "code",
   "execution_count": 44,
   "metadata": {},
   "outputs": [
    {
     "name": "stdout",
     "output_type": "stream",
     "text": [
      "NodeArg(name='images', type='tensor(float)', shape=[1, 3, 672, 672])\n",
      "(1, 3, 672, 672)\n",
      "Predictions Shape: (1, 9, 9261)\n",
      "Predictions Data Type: float32\n",
      "Raw Predictions (first few elements):\n",
      " [44.162827 36.41459  33.770054 38.95128  48.22972  56.405937 61.432037\n",
      " 63.38698  65.48514  72.18309 ]\n"
     ]
    }
   ],
   "source": [
    "import cv2\n",
    "import numpy as np\n",
    "\n",
    "# Run inference\n",
    "image_path = \"alexandrite_18.jpg\"\n",
    "image = cv2.imread(image_path)\n",
    "image = cv2.resize(image, [672, 672])\n",
    "image = image.astype(np.float32) / 255.0\n",
    "image = image.transpose(2,0,1)\n",
    "image = np.expand_dims(image, axis=0)\n",
    "input_name = session.get_inputs()[0].name\n",
    "print(session.get_inputs()[0])\n",
    "print(image.shape)\n",
    "\n",
    "outputs = ort_session.run(None, {input_name: image})\n",
    "\n",
    "# The 'outputs' variable will be a list containing the output tensor(s) as NumPy arrays\n",
    "predictions = outputs[0]\n",
    "\n",
    "print(\"Predictions Shape:\", predictions.shape)\n",
    "print(\"Predictions Data Type:\", predictions.dtype)\n",
    "print(\"Raw Predictions (first few elements):\\n\", predictions.flatten()[:10])\n"
   ]
  }
 ],
 "metadata": {
  "kernelspec": {
   "display_name": "Space_Gem",
   "language": "python",
   "name": "python3"
  },
  "language_info": {
   "codemirror_mode": {
    "name": "ipython",
    "version": 3
   },
   "file_extension": ".py",
   "mimetype": "text/x-python",
   "name": "python",
   "nbconvert_exporter": "python",
   "pygments_lexer": "ipython3",
   "version": "3.10.6"
  }
 },
 "nbformat": 4,
 "nbformat_minor": 2
}
