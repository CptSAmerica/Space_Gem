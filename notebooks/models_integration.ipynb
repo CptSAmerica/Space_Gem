{
 "cells": [
  {
   "cell_type": "code",
   "execution_count": null,
   "metadata": {},
   "outputs": [],
   "source": [
    "from ultralytics import YOLO\n",
    "#from space_gem.api import fast\n",
    "\n",
    "def yolo_pred(image):\n",
    "\n",
    "    # Load the exported ONNX model\n",
    "    onnx_model = YOLO(\"../models/best.onnx\")\n",
    "\n",
    "    # Run inference\n",
    "    results = onnx_model(image)\n",
    "\n",
    "    # Count how many gems of each category appear\n",
    "    detections = results[0].boxes.data.tolist()\n",
    "\n",
    "    count_dict = {'Ruby': 0, 'Amethyst': 0, 'Diamond': 0, 'Emerald': 0, 'Sapphire': 0}\n",
    "    for detection in detections:\n",
    "        # The last element in each detection list is the class ID\n",
    "        class_id = int(detection[-1])\n",
    "\n",
    "        if class_id == 0:\n",
    "            count_dict['Ruby'] += 1\n",
    "        elif class_id == 1:\n",
    "            count_dict['Amethyst'] += 1\n",
    "        elif class_id == 2:\n",
    "            count_dict['Diamond'] += 1\n",
    "        elif class_id == 3:\n",
    "            count_dict['Emerald'] += 1\n",
    "        elif class_id == 4:\n",
    "            count_dict['Sapphire'] += 1\n",
    "\n",
    "    # Counting amout of recognized gems\n",
    "    gem_count = (count_dict['Ruby'] + count_dict['Amethyst']\n",
    "    + count_dict['Diamond'] + count_dict['Emerald'] + count_dict['Sapphire'])\n",
    "\n",
    "    if gem_count > 1:\n",
    "        results[0].show()\n",
    "        return count_dict\n",
    "    else:\n",
    "        predicted_label = get_gemstone_label(image)\n",
    "        return predicted_label"
   ]
  },
  {
   "cell_type": "code",
   "execution_count": 11,
   "metadata": {},
   "outputs": [
    {
     "ename": "AttributeError",
     "evalue": "'str' object has no attribute 'dtype'",
     "output_type": "error",
     "traceback": [
      "\u001b[0;31m---------------------------------------------------------------------------\u001b[0m",
      "\u001b[0;31mAttributeError\u001b[0m                            Traceback (most recent call last)",
      "Cell \u001b[0;32mIn[11], line 1\u001b[0m\n\u001b[0;32m----> 1\u001b[0m gems \u001b[38;5;241m=\u001b[39m \u001b[43myolo_pred\u001b[49m\u001b[43m(\u001b[49m\u001b[38;5;124;43m'\u001b[39;49m\u001b[38;5;124;43m../notebooks/Diamonds.jpg\u001b[39;49m\u001b[38;5;124;43m'\u001b[39;49m\u001b[43m)\u001b[49m\n\u001b[1;32m      2\u001b[0m \u001b[38;5;28mprint\u001b[39m(gems)\n",
      "Cell \u001b[0;32mIn[10], line 6\u001b[0m, in \u001b[0;36myolo_pred\u001b[0;34m(image)\u001b[0m\n\u001b[1;32m      4\u001b[0m \u001b[38;5;28;01mdef\u001b[39;00m\u001b[38;5;250m \u001b[39m\u001b[38;5;21myolo_pred\u001b[39m(image):\n\u001b[0;32m----> 6\u001b[0m     \u001b[38;5;28mprint\u001b[39m(\u001b[43mimage\u001b[49m\u001b[38;5;241;43m.\u001b[39;49m\u001b[43mdtype\u001b[49m)\n\u001b[1;32m      7\u001b[0m     \u001b[38;5;66;03m# Load the exported ONNX model\u001b[39;00m\n\u001b[1;32m      8\u001b[0m     onnx_model \u001b[38;5;241m=\u001b[39m YOLO(\u001b[38;5;124m\"\u001b[39m\u001b[38;5;124m../models/best.onnx\u001b[39m\u001b[38;5;124m\"\u001b[39m)\n",
      "\u001b[0;31mAttributeError\u001b[0m: 'str' object has no attribute 'dtype'"
     ]
    }
   ],
   "source": [
    "gems = yolo_pred('../notebooks/Diamonds.jpg')\n",
    "print(gems)"
   ]
  },
  {
   "cell_type": "code",
   "execution_count": null,
   "metadata": {},
   "outputs": [],
   "source": []
  }
 ],
 "metadata": {
  "kernelspec": {
   "display_name": "Space_Gem",
   "language": "python",
   "name": "python3"
  },
  "language_info": {
   "codemirror_mode": {
    "name": "ipython",
    "version": 3
   },
   "file_extension": ".py",
   "mimetype": "text/x-python",
   "name": "python",
   "nbconvert_exporter": "python",
   "pygments_lexer": "ipython3",
   "version": "3.10.6"
  }
 },
 "nbformat": 4,
 "nbformat_minor": 2
}
