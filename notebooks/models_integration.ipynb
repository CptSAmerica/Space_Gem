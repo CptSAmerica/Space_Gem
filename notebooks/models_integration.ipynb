{
 "cells": [
  {
   "cell_type": "code",
   "execution_count": 7,
   "metadata": {},
   "outputs": [],
   "source": [
    "from ultralytics import YOLO\n",
    "#from space_gem.api import fast\n",
    "\n",
    "def yolo_pred(image):\n",
    "\n",
    "    # Load the exported ONNX model\n",
    "    onnx_model = YOLO(\"../models/best.onnx\")\n",
    "\n",
    "    # Run inference\n",
    "    results = onnx_model(image)\n",
    "\n",
    "    # Count how many gems of each category appear\n",
    "    detections = results[0].boxes.data.tolist()\n",
    "\n",
    "    count_dict = {'Ruby': 0, 'Amethyst': 0, 'Diamond': 0, 'Emerald': 0, 'Sapphire': 0}\n",
    "    for detection in detections:\n",
    "        # The last element in each detection list is the class ID\n",
    "        class_id = int(detection[-1])\n",
    "\n",
    "        if class_id == 0:\n",
    "            count_dict['Ruby'] += 1\n",
    "        elif class_id == 1:\n",
    "            count_dict['Amethyst'] += 1\n",
    "        elif class_id == 2:\n",
    "            count_dict['Diamond'] += 1\n",
    "        elif class_id == 3:\n",
    "            count_dict['Emerald'] += 1\n",
    "        elif class_id == 4:\n",
    "            count_dict['Sapphire'] += 1\n",
    "\n",
    "    # Counting amout of recognized gems\n",
    "    gem_count = (count_dict['Ruby'] + count_dict['Amethyst']\n",
    "    + count_dict['Diamond'] + count_dict['Emerald'] + count_dict['Sapphire'])\n",
    "\n",
    "    if gem_count > 1:\n",
    "        results[0].show()\n",
    "        return count_dict\n",
    "    else:\n",
    "        predicted_label = get_gemstone_label(image)\n",
    "        return predicted_label"
   ]
  },
  {
   "cell_type": "code",
   "execution_count": 60,
   "metadata": {},
   "outputs": [
    {
     "name": "stdout",
     "output_type": "stream",
     "text": [
      "An error occurred: 'numpy.ndarray' object has no attribute 'boxes'\n",
      "None\n"
     ]
    }
   ],
   "source": [
    "gems = pred_yolo(ort_session, 'https://qs.imgix.net/images/_1200x630_crop_center-center_82_none/How_to_tell_if_a_diamond_is_real.jpg')\n",
    "print(gems)"
   ]
  }
 ],
 "metadata": {
  "kernelspec": {
   "display_name": "Space_Gem",
   "language": "python",
   "name": "python3"
  },
  "language_info": {
   "codemirror_mode": {
    "name": "ipython",
    "version": 3
   },
   "file_extension": ".py",
   "mimetype": "text/x-python",
   "name": "python",
   "nbconvert_exporter": "python",
   "pygments_lexer": "ipython3",
   "version": "3.10.6"
  }
 },
 "nbformat": 4,
 "nbformat_minor": 2
}
